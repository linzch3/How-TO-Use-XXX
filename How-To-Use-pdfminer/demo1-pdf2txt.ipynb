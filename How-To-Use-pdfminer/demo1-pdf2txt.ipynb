{
 "cells": [
  {
   "cell_type": "code",
   "execution_count": 1,
   "metadata": {
    "collapsed": false
   },
   "outputs": [],
   "source": [
    "from pdfminer.pdfparser import PDFParser,PDFDocument\n",
    "from pdfminer.pdfinterp import PDFResourceManager, PDFPageInterpreter\n",
    "from pdfminer.converter import PDFPageAggregator\n",
    "from pdfminer.layout import LTTextBoxHorizontal,LAParams\n",
    "from pdfminer.pdfinterp import PDFTextExtractionNotAllowed\n",
    "import os\n",
    "if not os.path.exists(\".\\\\outputfile\"):\n",
    "    os.mkdir(\".\\\\outputfile\")\n",
    "    \n",
    "def parse(filePath):\n",
    "    try:\n",
    "        fp = open(filePath, 'rb') # 以二进制读模式打开\n",
    "        #用文件对象来创建一个pdf文档分析器\n",
    "        praser = PDFParser(fp)\n",
    "        # 创建一个PDF文档\n",
    "        doc = PDFDocument()\n",
    "        # 连接分析器 与文档对象\n",
    "        praser.set_document(doc)\n",
    "        doc.set_parser(praser)\n",
    "\n",
    "        # 提供初始化密码\n",
    "        # 如果没有密码 就创建一个空的字符串\n",
    "        doc.initialize()\n",
    "\n",
    "        # 检测文档是否提供txt转换，不提供就忽略\n",
    "        if not doc.is_extractable:\n",
    "            raise PDFTextExtractionNotAllowed\n",
    "        else:\n",
    "            # 创建PDf 资源管理器 来管理共享资源\n",
    "            rsrcmgr = PDFResourceManager()\n",
    "            # 创建一个PDF设备对象\n",
    "            laparams = LAParams()\n",
    "            device = PDFPageAggregator(rsrcmgr, laparams=laparams)\n",
    "            # 创建一个PDF解释器对象\n",
    "            interpreter = PDFPageInterpreter(rsrcmgr, device)\n",
    "\n",
    "            # 循环遍历列表，每次处理一个page的内容\n",
    "            firstWrite = True #用于标记是否是第一次写文件，若是则写模式为 w\n",
    "            #（在之前的写模式只为a的情况下，多次测试输出的txt文件一直重复相同的内容）,若不是则写模式为 a\n",
    "            fileCreated = False #判断文件是否生成\n",
    "            for page in doc.get_pages(): # doc.get_pages() 获取page列表\n",
    "                interpreter.process_page(page)\n",
    "                # 接受该页面的LTPage对象\n",
    "                layout = device.get_result()\n",
    "                # 这里layout是一个LTPage对象 里面存放着 这个page解析出的各种对象 \n",
    "                #一般包括LTTextBox, LTFigure, LTImage, LTTextBoxHorizontal 等等 想要获取文本就获得对象的text属性\n",
    "                outputFileName='.\\\\outputFile\\\\output--of--'+filePath.split('\\\\')[-1].split('.')[0]+'.txt'\n",
    "                for x in layout:\n",
    "                    if (isinstance(x, LTTextBoxHorizontal)):\n",
    "                        results = x.get_text()\n",
    "                        print(results)#输出文件文本信息\n",
    "                        #保存文件为txt格式\n",
    "                        if firstWrite:\n",
    "                            writeMode = 'w'\n",
    "                            firstWrite = False\n",
    "                        else:\n",
    "                            writeMode = 'a'\n",
    "                        with open(outputFileName, writeMode, encoding='utf-8') as f:\n",
    "                            fileCreated = True\n",
    "                            f.write(results+'\\n')\n",
    "            if fileCreated == False:\n",
    "                print(\"error : unable to turn this pdf file into textfile.\")\n",
    "                \n",
    "    except:\n",
    "        trackback.print_exc()\n",
    "        print(\"error in pdf file:\", filePath)"
   ]
  },
  {
   "cell_type": "markdown",
   "metadata": {},
   "source": [
    "## 测试英文文件读入"
   ]
  },
  {
   "cell_type": "code",
   "execution_count": 2,
   "metadata": {
    "collapsed": false
   },
   "outputs": [
    {
     "name": "stdout",
     "output_type": "stream",
     "text": [
      "A Brief Introduction to the Basics of Game Theory\n",
      "\n",
      "Matthew O. Jackson, Stanford University\n",
      "\n",
      "I provide a (very) brief introduction to game theory. I have developed these notes to\n",
      "\n",
      "provide quick access to some of the basics of game theory; mainly as an aid for students\n",
      "\n",
      "in courses in which I assumed familiarity with game theory but did not require it as a\n",
      "\n",
      "prerequisite. Of course, the material discussed here is only the proverbial tip of the iceberg,\n",
      "\n",
      "and there are many sources that oﬀer much more complete treatments of the sub ject.1 Here,\n",
      "\n",
      "I only cover a few of the most fundamental concepts, and provide just enough discussion\n",
      "\n",
      "to get the ideas across without discussing many issues associated with the concepts and\n",
      "\n",
      "approaches. Fuller coverage is available through a free on-line course that can be found via\n",
      "my website: http://www.stanford.edu/∼jacksonm/\n",
      "The basic elements of performing a noncooperative 2 game-theoretic analysis are (1)\n",
      "\n",
      "framing the situation in terms of the actions available to players and their payoﬀs as a\n",
      "\n",
      "function of actions, and (2) using various equilibrium notions to make either descriptive or\n",
      "\n",
      "1 For graduate-level treatments, see Roger Myerson’s (1991) Game Theory: Analysis of Conﬂict, Cam-\n",
      "\n",
      "bridge, Mass.: Harvard University Press; Ken Binmore’s (1992) Fun and Games, Lexington, Mass.: D.C.\n",
      "\n",
      "Heath; Drew Fudenberg and Jean Tirole’s (1993) Game Theory, Cambridge, Mass.: MIT Press; and Martin\n",
      "\n",
      "Osborne and Ariel Rubinstein’s (1994) A Course in Game Theory, Cambridge, Mass.: MIT Press. There\n",
      "\n",
      "are also abbreviated texts oﬀering a quick tour of game theory, such as Kevin Leyton-Brown and Yoav\n",
      "\n",
      "Shoham’s (2008) Essentials of Game Theory, Morgan and Claypool Publishers. For broader readings and\n",
      "\n",
      "undergraduate level texts, see R. Duncan Luce and Howard Raiﬀa (1959) Games and Decisions: Introduction\n",
      "\n",
      "and Critical Survey; Robert Gibbons (1992) Game Theory for Applied Economists; Colin F. Camerer (2003)\n",
      "\n",
      "Behavioral Game Theory: Experiments in Strategic Interaction; Martin J. Osborne (2003) An Introduction\n",
      "\n",
      "to Game Theory; Joel Watson (2007) Strategy: An Introduction to Game Theory; Avinash K. Dixit and\n",
      "\n",
      "Barry J. Nalebuﬀ (2010) The Art of Strategy: A Game Theorist’s Guide to Success in Business and Life;\n",
      "\n",
      "Joseph E. Harrington, Jr. (2010) Games, Strategies, and Decision Making, Worth Publishing.\n",
      "2 “Noncooperative game theory” refers to models in which each players are assumed to behave selﬁshly\n",
      "\n",
      "and their behaviors are directly modeled. “Cooperative game theory,” which I do not cover here, generally\n",
      "\n",
      "refers to more abstract and axiomatic analyses of bargains or behaviors that players might reach, without\n",
      "\n",
      "explicitly modeling the processes. The name “cooperative” derives in part from the fact that the analyses\n",
      "\n",
      "often (but not always) incorporate coalitional considerations, with important early analyses appearing in\n",
      "\n",
      "John von Neumann and Oskar Morgenstern’s 1944 foundational book “Theory of Games and Economic\n",
      "\n",
      "Behavior.”\n",
      "\n",
      "1\n",
      "\n"
     ]
    }
   ],
   "source": [
    "parse(\".\\\\fileNeeded\\\\test-en.pdf\")"
   ]
  },
  {
   "cell_type": "markdown",
   "metadata": {},
   "source": [
    "## 测试中文文件读入"
   ]
  },
  {
   "cell_type": "code",
   "execution_count": 3,
   "metadata": {
    "collapsed": false
   },
   "outputs": [
    {
     "name": "stdout",
     "output_type": "stream",
     "text": [
      "飓风纳丁于 2012 年 9 月 10 日由佛得角以西的一股东风波发展而成，次日就已增强为热带\n",
      "风暴。系统起初向西北方向移动，然后转向北上，期间没有接近任何陆地。9 月 15 日清晨，\n",
      "风暴在婉延向东行进的过程中达到飓风强度，之后由于垂直风切变的增强，纳丁于 9 月 16\n",
      "日削弱成热带风暴。次日，风暴开始向东北方向前进并威胁到亚速尔群岛，但在到达该群岛\n",
      "前又于 9 月 19 日再度改变方向朝东南偏东行进，不过还是给几个岛屿带去了热带风暴强度\n",
      "的狂风。9 月 21 日，系统在位于亚速尔群岛以南时开始向东南偏南方向曲折前进，并于当\n",
      "天晚些时候转变成一股非热带低气压。由于外部环境有利于系统发展，纳丁的残余在 9 月\n",
      "24 日再生为热带气旋。经过重新发展后，风暴行进了一个环状路径并蜿蜒缓慢地穿越东部\n",
      "大西洋，之后系统转向西南偏南，并一度几乎停止移动。到了 9 月 28 日，风暴蜿蜒向西北\n",
      "方向前进并再度增强为飓风。9 月 30 日，飓风进一步加强并达到每小时 150 公里的最高风\n",
      "速。但到了次日就因为外部环境不利而减弱成风速每小时 105 公里的热带风暴。强烈的风切\n",
      "变和逐渐降低的海面温度令风暴大幅削弱，于 10 月 3 日转变成温带气旋，并在之后不久与\n",
      "一个靠近亚速尔群岛东北部的冷锋融合。10 月 4 日，系统残留经过亚速尔群岛，再次给群\n",
      "岛带去了相对较强的大风。 \n",
      "\n"
     ]
    }
   ],
   "source": [
    "parse(\".\\\\fileNeeded\\\\test-zh_cn.pdf\")"
   ]
  },
  {
   "cell_type": "code",
   "execution_count": 4,
   "metadata": {
    "collapsed": false
   },
   "outputs": [
    {
     "data": {
      "text/plain": [
       "'./fileNeeded\\\\'"
      ]
     },
     "execution_count": 4,
     "metadata": {},
     "output_type": "execute_result"
    }
   ],
   "source": [
    "#测试os.path.join 以'/'这种符号为分隔符 用os.path.join会得到诸如'./fileNeeded\\\\'这种奇怪的结果\n",
    "import os\n",
    "os.path.join('./fileNeeded','')"
   ]
  }
 ],
 "metadata": {
  "anaconda-cloud": {},
  "kernelspec": {
   "display_name": "Python [conda root]",
   "language": "python",
   "name": "conda-root-py"
  },
  "language_info": {
   "codemirror_mode": {
    "name": "ipython",
    "version": 3
   },
   "file_extension": ".py",
   "mimetype": "text/x-python",
   "name": "python",
   "nbconvert_exporter": "python",
   "pygments_lexer": "ipython3",
   "version": "3.5.2"
  }
 },
 "nbformat": 4,
 "nbformat_minor": 1
}
