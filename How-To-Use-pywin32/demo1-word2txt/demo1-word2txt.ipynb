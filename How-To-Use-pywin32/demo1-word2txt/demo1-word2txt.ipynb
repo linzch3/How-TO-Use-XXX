{
 "cells": [
  {
   "cell_type": "markdown",
   "metadata": {},
   "source": [
    "# 两种实现：保存文件的方式不同\n",
    "\n",
    "### word2txt1:使用库中的SaveAs函数保存文件（缺点是这种方式保存的文件的编码方式不是utf-8，还不确定是什么）\n",
    "\n",
    "待实现：指定编码方式为utf-8，使用库中的SaveAs函数保存文件"
   ]
  },
  {
   "cell_type": "code",
   "execution_count": 1,
   "metadata": {
    "collapsed": false
   },
   "outputs": [],
   "source": [
    "from win32com import client as wc\n",
    "import os\n",
    "import traceback\n",
    "\n",
    "def word2txt1(filePath, outputFileName):\n",
    "    try:\n",
    "        outputFileName=os.path.join(os.getcwd(),outputFileName)\n",
    "        if os.path.exists(outputFileName):\n",
    "            #print('\\nFile had existed: ',outputFileName)\n",
    "            pass\n",
    "        else:\n",
    "            word = wc.Dispatch('Word.Application')\n",
    "            doc = word.Documents.Open(filePath)#注意要使用绝对路径\n",
    "            for para in doc.paragraphs :\n",
    "                print(para)\n",
    "            doc.SaveAs(outputFileName, 4)#保存文件，这种方式保存的文件的编码方式不是utf-8，还不确定是什么\n",
    "            doc.Close()#关闭文档\n",
    "    except:\n",
    "        #trackback.print_exc()\n",
    "        print(\"error in file:\",filePath)"
   ]
  },
  {
   "cell_type": "markdown",
   "metadata": {},
   "source": [
    "### wrod2txt:直接读取word中的所有文本，自己将文本写入对应的文件（目前推荐这个）"
   ]
  },
  {
   "cell_type": "code",
   "execution_count": 2,
   "metadata": {
    "collapsed": true
   },
   "outputs": [],
   "source": [
    "from win32com import client as wc\n",
    "import os\n",
    "def word2txt(filePath, outputFileName):\n",
    "    try:\n",
    "        word = wc.Dispatch('Word.Application')\n",
    "        doc = word.Documents.Open(os.path.join(os.getcwd(),filePath))#注意要使用绝对路径\n",
    "        #输出每一段的文字并保存到txt文件中\n",
    "        firstWrite = True #用于标记是否是第一次写文件，若是则写模式为 w\n",
    "        #（在之前的写模式只为a的情况下，多次测试输出的txt文件一直重复相同的内容）,若不是则写模式为 a\n",
    "        for para in doc.paragraphs:\n",
    "            print(para)\n",
    "            if firstWrite:\n",
    "                writeMode = 'w'\n",
    "                firstWrite = False\n",
    "            else:\n",
    "                writeMode = 'a'\n",
    "            with open(outputFileName, writeMode, encoding='utf-8') as f:\n",
    "                f.write(str(para).strip('\\r')+'\\n')    \n",
    "        #关闭文档\n",
    "        doc.Close()\n",
    "    except:\n",
    "        #trackback.print_exc()\n",
    "        print(\"error in file:\",filePath)\n",
    "###########对应的测试函数#################\n",
    "def testReadTxt(filePath):\n",
    "    print(\"\\n\\n【下面测试对应的文件读取，考虑文件读取时是否存在编码问题】：\\n\")\n",
    "    with open(filePath,'r',encoding='utf-8') as f:\n",
    "        for line in f.readlines():\n",
    "            print(line.strip('\\n'))\n",
    "###########对应的测试函数#################"
   ]
  },
  {
   "cell_type": "markdown",
   "metadata": {},
   "source": [
    "## 1.测试docx文档"
   ]
  },
  {
   "cell_type": "code",
   "execution_count": 3,
   "metadata": {
    "collapsed": false
   },
   "outputs": [
    {
     "name": "stdout",
     "output_type": "stream",
     "text": [
      "-----------------------------------------------\r\n",
      "使用python读取word文档（docx）的文字，并保存到txt文件中。\r\n",
      "------------------------------------------------\r\n",
      "测试段落1\r\n",
      "\t测试段落2\r\n",
      "\t\t测试段落3\r\n",
      "测试完毕\r\n",
      "-------------------------------------------------\r\n",
      "\n",
      "\n",
      "【下面测试对应的文件读取，考虑文件读取时是否存在编码问题】：\n",
      "\n",
      "-----------------------------------------------\n",
      "使用python读取word文档（docx）的文字，并保存到txt文件中。\n",
      "------------------------------------------------\n",
      "测试段落1\n",
      "\t测试段落2\n",
      "\t\t测试段落3\n",
      "测试完毕\n",
      "-------------------------------------------------\n"
     ]
    }
   ],
   "source": [
    "word2txt('test.docx', 'test-docx.txt')\n",
    "testReadTxt('test-docx.txt')"
   ]
  },
  {
   "cell_type": "markdown",
   "metadata": {},
   "source": [
    "## 2.测试doc文档"
   ]
  },
  {
   "cell_type": "code",
   "execution_count": 4,
   "metadata": {
    "collapsed": false
   },
   "outputs": [
    {
     "name": "stdout",
     "output_type": "stream",
     "text": [
      "-----------------------------------------------\r\n",
      "使用python读取word文档（doc）的文字，并保存到txt文件中。\r\n",
      "------------------------------------------------\r\n",
      "测试段落1\r\n",
      "\t测试段落2\r\n",
      "\t\t测试段落3\r\n",
      "测试完毕\r\n",
      "-------------------------------------------------\r\n",
      "\r\n",
      "\r\n",
      "\r\n",
      "\n",
      "\n",
      "【下面测试对应的文件读取，考虑文件读取时是否存在编码问题】：\n",
      "\n",
      "-----------------------------------------------\n",
      "使用python读取word文档（doc）的文字，并保存到txt文件中。\n",
      "------------------------------------------------\n",
      "测试段落1\n",
      "\t测试段落2\n",
      "\t\t测试段落3\n",
      "测试完毕\n",
      "-------------------------------------------------\n",
      "\n",
      "\n",
      "\n"
     ]
    }
   ],
   "source": [
    "word2txt('test.doc', 'test-doc.txt')\n",
    "testReadTxt('test-doc.txt')"
   ]
  },
  {
   "cell_type": "markdown",
   "metadata": {},
   "source": [
    "## 3.测试docm文档"
   ]
  },
  {
   "cell_type": "code",
   "execution_count": 5,
   "metadata": {
    "collapsed": false
   },
   "outputs": [
    {
     "name": "stdout",
     "output_type": "stream",
     "text": [
      "-----------------------------------------------\r\n",
      "使用python读取word文档（docm）的文字，并保存到txt文件中。\r\n",
      "------------------------------------------------\r\n",
      "测试段落1\r\n",
      "\t测试段落2\r\n",
      "\t\t测试段落3\r\n",
      "测试完毕\r\n",
      "-------------------------------------------------\r\n",
      "\n",
      "\n",
      "【下面测试对应的文件读取，考虑文件读取时是否存在编码问题】：\n",
      "\n",
      "-----------------------------------------------\n",
      "使用python读取word文档（docm）的文字，并保存到txt文件中。\n",
      "------------------------------------------------\n",
      "测试段落1\n",
      "\t测试段落2\n",
      "\t\t测试段落3\n",
      "测试完毕\n",
      "-------------------------------------------------\n"
     ]
    }
   ],
   "source": [
    "word2txt('test.docm', 'test-docm.txt')\n",
    "testReadTxt('test-docm.txt')"
   ]
  }
 ],
 "metadata": {
  "anaconda-cloud": {},
  "kernelspec": {
   "display_name": "Python [conda root]",
   "language": "python",
   "name": "conda-root-py"
  },
  "language_info": {
   "codemirror_mode": {
    "name": "ipython",
    "version": 3
   },
   "file_extension": ".py",
   "mimetype": "text/x-python",
   "name": "python",
   "nbconvert_exporter": "python",
   "pygments_lexer": "ipython3",
   "version": "3.5.2"
  }
 },
 "nbformat": 4,
 "nbformat_minor": 1
}
