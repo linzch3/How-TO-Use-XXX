{
 "cells": [
  {
   "cell_type": "markdown",
   "metadata": {},
   "source": [
    "datetime是模块，datetime模块还包含一个datetime类，通过from datetime import datetime导入的才是datetime这个类。\n",
    "\n",
    "如果仅导入import datetime，则必须引用全名datetime.datetime。"
   ]
  },
  {
   "cell_type": "code",
   "execution_count": 1,
   "metadata": {
    "collapsed": true
   },
   "outputs": [],
   "source": [
    "from datetime import datetime"
   ]
  },
  {
   "cell_type": "markdown",
   "metadata": {},
   "source": [
    "## 1.获取当前日期和时间"
   ]
  },
  {
   "cell_type": "code",
   "execution_count": 4,
   "metadata": {
    "collapsed": false
   },
   "outputs": [
    {
     "name": "stdout",
     "output_type": "stream",
     "text": [
      "2017-09-04 15:45:55.044100\n"
     ]
    }
   ],
   "source": [
    "now = datetime.now()  # 获取当前datetime\n",
    "print(now)"
   ]
  },
  {
   "cell_type": "markdown",
   "metadata": {},
   "source": [
    "## 2.获取指定日期和时间"
   ]
  },
  {
   "cell_type": "code",
   "execution_count": 6,
   "metadata": {
    "collapsed": false
   },
   "outputs": [
    {
     "name": "stdout",
     "output_type": "stream",
     "text": [
      "2012-04-19 12:20:12\n"
     ]
    }
   ],
   "source": [
    "dt = datetime(2012, 4, 19, 12, 20,12) # 用指定日期时间创建datetime\n",
    "print(dt)"
   ]
  },
  {
   "cell_type": "markdown",
   "metadata": {},
   "source": [
    "## 3.datetime 与 timestamp 的相互转换\n",
    "\n",
    "在计算机中，时间实际上是用数字表示的。我们把1970年1月1日 00:00:00 UTC+00:00时区的时刻称为epoch time，记为0（1970年以前的时间timestamp为负数），当前时间就是相对于epoch time的秒数，称为timestamp。\n",
    "\n",
    "注意到timestamp是一个浮点数，它没有时区的概念，而datetime是有时区的。上述转换是在timestamp和本地时间做转换。本地时间是指当前操作系统设定的时区。"
   ]
  },
  {
   "cell_type": "code",
   "execution_count": 11,
   "metadata": {
    "collapsed": false
   },
   "outputs": [
    {
     "name": "stdout",
     "output_type": "stream",
     "text": [
      "datetime before: 2017-09-04 15:51:36.482020\n",
      "timestamp      : 1504511496.48202\n",
      "datetime after: 2017-09-04 15:51:36.482020\n"
     ]
    }
   ],
   "source": [
    "'''datetime转换为timestamp'''\n",
    "now = datetime.now()\n",
    "print('datetime before:', now)\n",
    "print('timestamp      :',now.timestamp())#注意Python的timestamp是一个浮点数。如果有小数位，小数位表示毫秒数。\n",
    "\n",
    "'''timestamp转换为datetime'''\n",
    "now1=datetime.fromtimestamp(now.timestamp())# 本地时间\n",
    "print('datetime after:', now1)"
   ]
  },
  {
   "cell_type": "markdown",
   "metadata": {},
   "source": [
    "## 4.str 与 datetime 的相互转换\n",
    "\n",
    "很多时候，用户输入的日期和时间是字符串，要处理日期和时间，首先必须把str转换为datetime"
   ]
  },
  {
   "cell_type": "code",
   "execution_count": 12,
   "metadata": {
    "collapsed": false
   },
   "outputs": [
    {
     "name": "stdout",
     "output_type": "stream",
     "text": [
      "2015-06-01 18:19:59\n",
      "Mon, Sep 04 15:51\n"
     ]
    }
   ],
   "source": [
    "'''str转换为datetime'''\n",
    "cday = datetime.strptime('2015-6-1 18:19:59', '%Y-%m-%d %H:%M:%S')#字符串'%Y-%m-%d %H:%M:%S'规定了日期和时间部分的格式\n",
    "print(cday)\n",
    "\n",
    "'''datetime转换为str'''\n",
    "print(now.strftime('%a, %b %d %H:%M'))"
   ]
  },
  {
   "cell_type": "markdown",
   "metadata": {},
   "source": [
    "## 5.datetime加减运算"
   ]
  },
  {
   "cell_type": "code",
   "execution_count": 16,
   "metadata": {
    "collapsed": false
   },
   "outputs": [
    {
     "name": "stdout",
     "output_type": "stream",
     "text": [
      "now          : 2017-09-04 15:56:05.779734\n",
      "+10hours     : 2017-09-05 01:56:05.779734\n",
      "-1day        : 2017-09-03 15:56:05.779734\n",
      "+2day+12hours: 2017-09-07 03:56:05.779734\n"
     ]
    }
   ],
   "source": [
    "from datetime import datetime, timedelta\n",
    "now = datetime.now()\n",
    "print('now          :', now)\n",
    "print('+10hours     :', now + timedelta(hours=10))\n",
    "print('-1day        :', now - timedelta(days=1))\n",
    "print('+2day+12hours:', now + timedelta(days=2, hours=12))"
   ]
  }
 ],
 "metadata": {
  "anaconda-cloud": {},
  "kernelspec": {
   "display_name": "Python [conda root]",
   "language": "python",
   "name": "conda-root-py"
  },
  "language_info": {
   "codemirror_mode": {
    "name": "ipython",
    "version": 3
   },
   "file_extension": ".py",
   "mimetype": "text/x-python",
   "name": "python",
   "nbconvert_exporter": "python",
   "pygments_lexer": "ipython3",
   "version": "3.5.2"
  }
 },
 "nbformat": 4,
 "nbformat_minor": 1
}
