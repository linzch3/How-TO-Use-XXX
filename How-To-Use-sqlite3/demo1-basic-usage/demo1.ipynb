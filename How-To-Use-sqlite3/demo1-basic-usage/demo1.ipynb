{
 "cells": [
  {
   "cell_type": "markdown",
   "metadata": {},
   "source": [
    "本demo参考[廖雪峰的官方网站][1]\n",
    "\n",
    "[1]:https://www.liaoxuefeng.com/wiki/0014316089557264a6b348958f449949df42a6d3a2e542c000/001432010494717e1db78cd172e4d52b853e7fd38d6985c000"
   ]
  },
  {
   "cell_type": "code",
   "execution_count": 1,
   "metadata": {
    "collapsed": false
   },
   "outputs": [
    {
     "data": {
      "text/plain": [
       "<sqlite3.Cursor at 0x1d86c49f0a0>"
      ]
     },
     "execution_count": 1,
     "metadata": {},
     "output_type": "execute_result"
    }
   ],
   "source": [
    "# 导入SQLite驱动\n",
    "import sqlite3\n",
    "import os\n",
    "#########多次测试需要添加的代码########\n",
    "#首先除去原有的数据库test.db\n",
    "db_file = os.path.join(os.getcwd(), 'test.db')\n",
    "if os.path.isfile(db_file):\n",
    "    os.remove(db_file)\n",
    "#####################################\n",
    "# 连接到SQLite数据库\n",
    "# 数据库文件是test.db\n",
    "# 如果文件不存在，会自动在当前目录创建\n",
    "conn = sqlite3.connect('test.db')\n",
    "# 创建一个Cursor\n",
    "cursor = conn.cursor()\n",
    "# 执行一条SQL语句，创建user表\n",
    "cursor.execute('create table user (id varchar(20) primary key, name varchar(20))')"
   ]
  },
  {
   "cell_type": "code",
   "execution_count": 2,
   "metadata": {
    "collapsed": false
   },
   "outputs": [
    {
     "data": {
      "text/plain": [
       "<sqlite3.Cursor at 0x1d86c49f0a0>"
      ]
     },
     "execution_count": 2,
     "metadata": {},
     "output_type": "execute_result"
    }
   ],
   "source": [
    "# 继续执行一条SQL语句，插入一条记录\n",
    "cursor.execute('insert into user (id, name) values (\\'1\\', \\'Michael\\')')"
   ]
  },
  {
   "cell_type": "code",
   "execution_count": 3,
   "metadata": {
    "collapsed": false
   },
   "outputs": [
    {
     "name": "stdout",
     "output_type": "stream",
     "text": [
      "1\n"
     ]
    }
   ],
   "source": [
    "# 通过rowcount获得插入的行数\n",
    "print(cursor.rowcount)\n",
    "# 关闭Cursor\n",
    "cursor.close()\n",
    "# 提交事务\n",
    "conn.commit()\n",
    "# 关闭Connection\n",
    "conn.close()"
   ]
  },
  {
   "cell_type": "code",
   "execution_count": 4,
   "metadata": {
    "collapsed": false
   },
   "outputs": [
    {
     "data": {
      "text/plain": [
       "<sqlite3.Cursor at 0x1d86c49f1f0>"
      ]
     },
     "execution_count": 4,
     "metadata": {},
     "output_type": "execute_result"
    }
   ],
   "source": [
    "conn = sqlite3.connect('test.db')\n",
    "cursor = conn.cursor()\n",
    "# 执行查询语句:\n",
    "cursor.execute('select * from user where id=?', ('1',))"
   ]
  },
  {
   "cell_type": "code",
   "execution_count": 5,
   "metadata": {
    "collapsed": false
   },
   "outputs": [
    {
     "name": "stdout",
     "output_type": "stream",
     "text": [
      "[('1', 'Michael')]\n"
     ]
    }
   ],
   "source": [
    "# 获得查询结果集:\n",
    "values = cursor.fetchall()#fetchall = fetch + all\n",
    "print(values)\n",
    "cursor.close()\n",
    "conn.close()"
   ]
  },
  {
   "cell_type": "markdown",
   "metadata": {},
   "source": [
    "### 注意点\n",
    "\n",
    "在Python中操作数据库时，要先导入数据库对应的驱动，然后，通过Connection对象和Cursor对象操作数据。\n",
    "\n",
    "要确保打开的Connection对象和Cursor对象都正确地被关闭，否则，资源就会泄露。\n",
    "\n",
    "如何才能确保出错的情况下也关闭掉Connection对象和Cursor对象呢？请回忆try:...except:...finally:...的用法。"
   ]
  },
  {
   "cell_type": "markdown",
   "metadata": {},
   "source": [
    "### 测试：编写函数，在Sqlite中根据分数段查找指定的名字"
   ]
  },
  {
   "cell_type": "markdown",
   "metadata": {},
   "source": [
    "#### 1.原有题目信息"
   ]
  },
  {
   "cell_type": "code",
   "execution_count": 6,
   "metadata": {
    "collapsed": false
   },
   "outputs": [],
   "source": [
    "import os, sqlite3\n",
    "\n",
    "#首先除去原有的数据库test.db\n",
    "db_file = os.path.join(os.getcwd(), 'test.db')\n",
    "if os.path.isfile(db_file):\n",
    "    os.remove(db_file)\n",
    "\n",
    "#再新建一个数据库，也叫test.db\n",
    "conn = sqlite3.connect(db_file)\n",
    "cursor = conn.cursor()\n",
    "cursor.execute('create table user(id varchar(20) primary key, name varchar(20), score int)')\n",
    "cursor.execute(r\"insert into user values ('A-001', 'Adam', 95)\")\n",
    "cursor.execute(r\"insert into user values ('A-002', 'Bart', 62)\")\n",
    "cursor.execute(r\"insert into user values ('A-003', 'Lisa', 78)\")\n",
    "cursor.close()\n",
    "conn.commit()\n",
    "conn.close()"
   ]
  },
  {
   "cell_type": "markdown",
   "metadata": {},
   "source": [
    "#### 2. 实现函数:2个实现"
   ]
  },
  {
   "cell_type": "code",
   "execution_count": 7,
   "metadata": {
    "collapsed": false
   },
   "outputs": [],
   "source": [
    "def get_score_in1(low, high):\n",
    "    ' 返回指定分数区间的名字，按分数从低到高排序 '\n",
    "    conn = sqlite3.connect(db_file)\n",
    "    cursor = conn.cursor()\n",
    "    cursor.execute(\"select user.name, user.score from user where score >= ? and score <= ?\", (low,high))\n",
    "    res = cursor.fetchall()\n",
    "    res.sort(key = lambda x: x[1])\n",
    "    res = [i[0] for i in res]\n",
    "    cursor.close()\n",
    "    conn.commit()\n",
    "    conn.close()\n",
    "    return res"
   ]
  },
  {
   "cell_type": "code",
   "execution_count": 8,
   "metadata": {
    "collapsed": true
   },
   "outputs": [],
   "source": [
    "\n",
    "def get_score_in2(low, high):\n",
    "    ' 返回指定分数区间的名字，按分数从低到高排序 '\n",
    "    conn = sqlite3.connect(db_file)\n",
    "    cursor = conn.cursor()\n",
    "    cursor.execute(\"select * from user where score between ? and ? ORDER BY score\", (low,high))\n",
    "    res = cursor.fetchall()\n",
    "    res = list(map(lambda x: x[1], res))\n",
    "    cursor.close()\n",
    "    conn.commit()\n",
    "    conn.close()\n",
    "    return res"
   ]
  },
  {
   "cell_type": "markdown",
   "metadata": {},
   "source": [
    "第一种实现是我自己写的，刚学习mySQL不熟悉相关的语法，于是便自己取出数据后再sort一遍。第二种实现是看别人写的，重点就在于其**充分利用了**SQL语句，使用**ORDER BY**的方法进行排序。"
   ]
  },
  {
   "cell_type": "markdown",
   "metadata": {},
   "source": [
    "#### 3.测试函数实现效果"
   ]
  },
  {
   "cell_type": "code",
   "execution_count": 9,
   "metadata": {
    "collapsed": false
   },
   "outputs": [
    {
     "name": "stdout",
     "output_type": "stream",
     "text": [
      "Pass\n"
     ]
    }
   ],
   "source": [
    "assert get_score_in1(80, 95) == ['Adam']\n",
    "assert get_score_in1(60, 80) == ['Bart', 'Lisa']\n",
    "assert get_score_in1(60, 100) == ['Bart', 'Lisa', 'Adam']\n",
    "\n",
    "assert get_score_in2(80, 95) == ['Adam']\n",
    "assert get_score_in2(60, 80) == ['Bart', 'Lisa']\n",
    "assert get_score_in2(60, 100) == ['Bart', 'Lisa', 'Adam']\n",
    "\n",
    "print('Pass')"
   ]
  }
 ],
 "metadata": {
  "anaconda-cloud": {},
  "kernelspec": {
   "display_name": "Python [conda root]",
   "language": "python",
   "name": "conda-root-py"
  },
  "language_info": {
   "codemirror_mode": {
    "name": "ipython",
    "version": 3
   },
   "file_extension": ".py",
   "mimetype": "text/x-python",
   "name": "python",
   "nbconvert_exporter": "python",
   "pygments_lexer": "ipython3",
   "version": "3.5.2"
  }
 },
 "nbformat": 4,
 "nbformat_minor": 1
}
