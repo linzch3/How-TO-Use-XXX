{
 "cells": [
  {
   "cell_type": "markdown",
   "metadata": {},
   "source": [
    "itertools模块提供的全部是处理迭代功能的函数，它们的返回值不是list，而是Iterator，只有用for循环迭代的时候才真正计算。"
   ]
  },
  {
   "cell_type": "code",
   "execution_count": 14,
   "metadata": {
    "collapsed": true
   },
   "outputs": [],
   "source": [
    "import itertools"
   ]
  },
  {
   "cell_type": "markdown",
   "metadata": {},
   "source": [
    "## 1.count"
   ]
  },
  {
   "cell_type": "code",
   "execution_count": 15,
   "metadata": {
    "collapsed": false
   },
   "outputs": [
    {
     "name": "stdout",
     "output_type": "stream",
     "text": [
      "1 2 3 4 5 6 7 8 9 10 11 12 13 14 15 16 17 18 19 20 21 22 23 24 25 26 27 28 29 30 31 32 33 34 35 36 37 38 39 40 41 42 43 44 45 46 47 48 49 50 51 52 53 54 55 56 57 58 59 60 61 62 63 64 65 66 67 68 69 70 71 72 73 74 75 76 77 78 79 80 81 82 83 84 85 86 87 88 89 90 91 92 93 94 95 96 97 98 99 100 "
     ]
    }
   ],
   "source": [
    "'''count()会创建一个无限的迭代器'''\n",
    "natruals = itertools.count(1) #从1开始的自然数无限序列\n",
    "for n in natruals:\n",
    "    print(n, end=' ')\n",
    "    if n >= 100:\n",
    "        break"
   ]
  },
  {
   "cell_type": "markdown",
   "metadata": {},
   "source": [
    "## 2.cycle"
   ]
  },
  {
   "cell_type": "code",
   "execution_count": 16,
   "metadata": {
    "collapsed": false
   },
   "outputs": [
    {
     "name": "stdout",
     "output_type": "stream",
     "text": [
      "A B C A B C A B C A "
     ]
    }
   ],
   "source": [
    "'''cycle()会把传入的一个序列无限重复下去'''\n",
    "cs = itertools.cycle('ABC')\n",
    "t = 10\n",
    "for c in cs:\n",
    "    print(c, end=' ')\n",
    "    t = t - 1\n",
    "    if t == 0:\n",
    "        break"
   ]
  },
  {
   "cell_type": "markdown",
   "metadata": {},
   "source": [
    "## 3.repeat"
   ]
  },
  {
   "cell_type": "code",
   "execution_count": 17,
   "metadata": {
    "collapsed": false
   },
   "outputs": [
    {
     "name": "stdout",
     "output_type": "stream",
     "text": [
      "A A A "
     ]
    }
   ],
   "source": [
    "'''repeat()负责把一个元素无限重复下去，不过如果提供第二个参数就可以限定重复次数'''\n",
    "ns = itertools.repeat('A', 3)\n",
    "for n in ns:\n",
    "    print(n, end=' ')"
   ]
  },
  {
   "cell_type": "markdown",
   "metadata": {},
   "source": [
    "## 4.takewhile"
   ]
  },
  {
   "cell_type": "code",
   "execution_count": 18,
   "metadata": {
    "collapsed": false
   },
   "outputs": [
    {
     "name": "stdout",
     "output_type": "stream",
     "text": [
      "[1, 2, 3, 4, 5, 6, 7, 8, 9, 10]\n"
     ]
    }
   ],
   "source": [
    "'''无限序列虽然可以无限迭代下去，但是通常我们会通过takewhile()等函数根据条件判断来截取出一个有限的序列：'''\n",
    "natuals = itertools.count(1)\n",
    "ns = itertools.takewhile(lambda x: x <= 10, natuals)\n",
    "print(list(ns))"
   ]
  },
  {
   "cell_type": "markdown",
   "metadata": {},
   "source": [
    "## 5.chain"
   ]
  },
  {
   "cell_type": "code",
   "execution_count": 19,
   "metadata": {
    "collapsed": false
   },
   "outputs": [
    {
     "name": "stdout",
     "output_type": "stream",
     "text": [
      "A B C X Y Z "
     ]
    }
   ],
   "source": [
    "'''chain()可以把一组迭代对象串联起来，形成一个更大的迭代器：'''\n",
    "for c in itertools.chain('ABC', 'XYZ'):\n",
    "    print(c, end=' ')"
   ]
  },
  {
   "cell_type": "markdown",
   "metadata": {},
   "source": [
    "## 6.groupby"
   ]
  },
  {
   "cell_type": "code",
   "execution_count": 20,
   "metadata": {
    "collapsed": false
   },
   "outputs": [
    {
     "name": "stdout",
     "output_type": "stream",
     "text": [
      "A ['A', 'A', 'A']\n",
      "B ['B', 'B', 'B']\n",
      "C ['C', 'C']\n",
      "A ['A', 'A', 'A']\n"
     ]
    }
   ],
   "source": [
    "'''groupby()把迭代器中相邻的重复元素挑出来放在一起：'''\n",
    "for key, group in itertools.groupby('AAABBBCCAAA'):\n",
    "    print(key, list(group))"
   ]
  },
  {
   "cell_type": "code",
   "execution_count": 21,
   "metadata": {
    "collapsed": false
   },
   "outputs": [
    {
     "name": "stdout",
     "output_type": "stream",
     "text": [
      "A ['A', 'a', 'a']\n",
      "B ['B', 'B', 'b']\n",
      "C ['c', 'C']\n",
      "A ['A', 'A', 'a']\n"
     ]
    }
   ],
   "source": [
    "'''实际上挑选规则是通过函数完成的，只要作用于函数的两个元素返回的值相等，这两个元素就被认为是在一组的，\n",
    "    而函数返回值作为组的key。如果我们要忽略大小写分组，就可以让元素'A'和'a'都返回相同的key：'''\n",
    "for key, group in itertools.groupby('AaaBBbcCAAa', lambda c: c.upper()):\n",
    "    print(key, list(group))"
   ]
  }
 ],
 "metadata": {
  "anaconda-cloud": {},
  "kernelspec": {
   "display_name": "Python [conda root]",
   "language": "python",
   "name": "conda-root-py"
  },
  "language_info": {
   "codemirror_mode": {
    "name": "ipython",
    "version": 3
   },
   "file_extension": ".py",
   "mimetype": "text/x-python",
   "name": "python",
   "nbconvert_exporter": "python",
   "pygments_lexer": "ipython3",
   "version": "3.5.2"
  }
 },
 "nbformat": 4,
 "nbformat_minor": 1
}
